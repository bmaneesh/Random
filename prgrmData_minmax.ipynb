{
 "cells": [
  {
   "cell_type": "code",
   "execution_count": 70,
   "metadata": {
    "collapsed": true
   },
   "outputs": [],
   "source": [
    "import os as os\n",
    "import numpy as np"
   ]
  },
  {
   "cell_type": "code",
   "execution_count": 2,
   "metadata": {
    "collapsed": false
   },
   "outputs": [
    {
     "name": "stdout",
     "output_type": "stream",
     "text": [
      "C:/Users/Maneesh/Documents/ProgramData/\n",
      "104\n"
     ]
    }
   ],
   "source": [
    "data_path  = \"C:/Users/Maneesh/Documents/ProgramData/\"\n",
    "print(data_path)\n",
    "num_prblm = len(os.listdir(data_path))\n",
    "print(num_prblm)"
   ]
  },
  {
   "cell_type": "code",
   "execution_count": 66,
   "metadata": {
    "collapsed": false
   },
   "outputs": [],
   "source": [
    "line_count = [[None]*500 for _ in range(104)]\n",
    "for prblm_idx in range(1,num_prblm+1):\n",
    "    prblm_path = data_path + str(prblm_idx)\n",
    "    file_names = os.listdir(os.chdir(prblm_path))\n",
    "    for file_idx in range(0,len(file_names)):\n",
    "        file_name = open(prblm_path + '/' + file_names[file_idx],'r')\n",
    "        line_count[prblm_idx-1][file_idx]=len(file_name.readlines())"
   ]
  },
  {
   "cell_type": "code",
   "execution_count": 71,
   "metadata": {
    "collapsed": true
   },
   "outputs": [],
   "source": [
    "arr = np.array(line_count)"
   ]
  },
  {
   "cell_type": "code",
   "execution_count": 82,
   "metadata": {
    "collapsed": false
   },
   "outputs": [
    {
     "name": "stdout",
     "output_type": "stream",
     "text": [
      "11.0096153846\n",
      "139.5\n"
     ]
    }
   ],
   "source": [
    "print(np.amin(arr,1).mean())\n",
    "print(np.amax(arr,1).mean())"
   ]
  },
  {
   "cell_type": "code",
   "execution_count": null,
   "metadata": {
    "collapsed": true
   },
   "outputs": [],
   "source": []
  }
 ],
 "metadata": {
  "kernelspec": {
   "display_name": "Python [Root]",
   "language": "python",
   "name": "Python [Root]"
  },
  "language_info": {
   "codemirror_mode": {
    "name": "ipython",
    "version": 3
   },
   "file_extension": ".py",
   "mimetype": "text/x-python",
   "name": "python",
   "nbconvert_exporter": "python",
   "pygments_lexer": "ipython3",
   "version": "3.5.2"
  }
 },
 "nbformat": 4,
 "nbformat_minor": 0
}
